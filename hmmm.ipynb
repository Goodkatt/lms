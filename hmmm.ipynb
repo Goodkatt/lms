{
 "cells": [
  {
   "cell_type": "code",
   "execution_count": 1,
   "metadata": {},
   "outputs": [],
   "source": [
    "import numpy as np\n",
    "import matplotlib.pyplot as plt\n",
    "from sklearn.linear_model import LinearRegression\n",
    "import pandas as pd"
   ]
  },
  {
   "cell_type": "code",
   "execution_count": 8,
   "metadata": {},
   "outputs": [],
   "source": [
    "csv = pd.read_csv('C:/asd.csv')"
   ]
  },
  {
   "cell_type": "code",
   "execution_count": 9,
   "metadata": {},
   "outputs": [
    {
     "data": {
      "text/html": [
       "<div>\n",
       "<style scoped>\n",
       "    .dataframe tbody tr th:only-of-type {\n",
       "        vertical-align: middle;\n",
       "    }\n",
       "\n",
       "    .dataframe tbody tr th {\n",
       "        vertical-align: top;\n",
       "    }\n",
       "\n",
       "    .dataframe thead th {\n",
       "        text-align: right;\n",
       "    }\n",
       "</style>\n",
       "<table border=\"1\" class=\"dataframe\">\n",
       "  <thead>\n",
       "    <tr style=\"text-align: right;\">\n",
       "      <th></th>\n",
       "      <th>ID</th>\n",
       "      <th>temperature</th>\n",
       "      <th>var1</th>\n",
       "      <th>pressure</th>\n",
       "      <th>windspeed</th>\n",
       "      <th>electricity_consumption</th>\n",
       "    </tr>\n",
       "  </thead>\n",
       "  <tbody>\n",
       "    <tr>\n",
       "      <th>count</th>\n",
       "      <td>26496.000000</td>\n",
       "      <td>26496.000000</td>\n",
       "      <td>26496.000000</td>\n",
       "      <td>26496.000000</td>\n",
       "      <td>26496.000000</td>\n",
       "      <td>26496.000000</td>\n",
       "    </tr>\n",
       "    <tr>\n",
       "      <th>mean</th>\n",
       "      <td>17455.500000</td>\n",
       "      <td>5.098989</td>\n",
       "      <td>-1.916233</td>\n",
       "      <td>986.450615</td>\n",
       "      <td>23.959956</td>\n",
       "      <td>298.359601</td>\n",
       "    </tr>\n",
       "    <tr>\n",
       "      <th>std</th>\n",
       "      <td>10122.873673</td>\n",
       "      <td>8.682860</td>\n",
       "      <td>10.424860</td>\n",
       "      <td>12.002647</td>\n",
       "      <td>48.280321</td>\n",
       "      <td>108.020555</td>\n",
       "    </tr>\n",
       "    <tr>\n",
       "      <th>min</th>\n",
       "      <td>0.000000</td>\n",
       "      <td>-17.100000</td>\n",
       "      <td>-32.900000</td>\n",
       "      <td>953.000000</td>\n",
       "      <td>1.075000</td>\n",
       "      <td>174.000000</td>\n",
       "    </tr>\n",
       "    <tr>\n",
       "      <th>25%</th>\n",
       "      <td>8717.750000</td>\n",
       "      <td>-2.900000</td>\n",
       "      <td>-10.700000</td>\n",
       "      <td>978.000000</td>\n",
       "      <td>3.155000</td>\n",
       "      <td>219.000000</td>\n",
       "    </tr>\n",
       "    <tr>\n",
       "      <th>50%</th>\n",
       "      <td>17435.500000</td>\n",
       "      <td>6.400000</td>\n",
       "      <td>-1.400000</td>\n",
       "      <td>986.000000</td>\n",
       "      <td>6.545000</td>\n",
       "      <td>267.000000</td>\n",
       "    </tr>\n",
       "    <tr>\n",
       "      <th>75%</th>\n",
       "      <td>26177.250000</td>\n",
       "      <td>12.100000</td>\n",
       "      <td>7.900000</td>\n",
       "      <td>995.000000</td>\n",
       "      <td>22.260000</td>\n",
       "      <td>342.000000</td>\n",
       "    </tr>\n",
       "    <tr>\n",
       "      <th>max</th>\n",
       "      <td>34895.000000</td>\n",
       "      <td>23.600000</td>\n",
       "      <td>18.600000</td>\n",
       "      <td>1024.000000</td>\n",
       "      <td>586.600000</td>\n",
       "      <td>1386.000000</td>\n",
       "    </tr>\n",
       "  </tbody>\n",
       "</table>\n",
       "</div>"
      ],
      "text/plain": [
       "                 ID   temperature          var1      pressure     windspeed  \\\n",
       "count  26496.000000  26496.000000  26496.000000  26496.000000  26496.000000   \n",
       "mean   17455.500000      5.098989     -1.916233    986.450615     23.959956   \n",
       "std    10122.873673      8.682860     10.424860     12.002647     48.280321   \n",
       "min        0.000000    -17.100000    -32.900000    953.000000      1.075000   \n",
       "25%     8717.750000     -2.900000    -10.700000    978.000000      3.155000   \n",
       "50%    17435.500000      6.400000     -1.400000    986.000000      6.545000   \n",
       "75%    26177.250000     12.100000      7.900000    995.000000     22.260000   \n",
       "max    34895.000000     23.600000     18.600000   1024.000000    586.600000   \n",
       "\n",
       "       electricity_consumption  \n",
       "count             26496.000000  \n",
       "mean                298.359601  \n",
       "std                 108.020555  \n",
       "min                 174.000000  \n",
       "25%                 219.000000  \n",
       "50%                 267.000000  \n",
       "75%                 342.000000  \n",
       "max                1386.000000  "
      ]
     },
     "execution_count": 9,
     "metadata": {},
     "output_type": "execute_result"
    }
   ],
   "source": [
    "csv.describe()"
   ]
  },
  {
   "cell_type": "code",
   "execution_count": 11,
   "metadata": {},
   "outputs": [
    {
     "name": "stdout",
     "output_type": "stream",
     "text": [
      "float64\n"
     ]
    }
   ],
   "source": [
    "print(csv['temperature'].dtypes)"
   ]
  },
  {
   "cell_type": "code",
   "execution_count": 12,
   "metadata": {},
   "outputs": [],
   "source": [
    "linreg = LinearRegression()"
   ]
  },
  {
   "cell_type": "code",
   "execution_count": 14,
   "metadata": {},
   "outputs": [],
   "source": [
    "df_x = csv[['temperature']]"
   ]
  },
  {
   "cell_type": "code",
   "execution_count": 15,
   "metadata": {},
   "outputs": [],
   "source": [
    "df_y = csv[['electricity_consumption']]"
   ]
  },
  {
   "cell_type": "code",
   "execution_count": 17,
   "metadata": {},
   "outputs": [
    {
     "data": {
      "text/plain": [
       "LinearRegression()"
      ]
     },
     "execution_count": 17,
     "metadata": {},
     "output_type": "execute_result"
    }
   ],
   "source": [
    "linreg.fit(df_x, df_y)"
   ]
  },
  {
   "cell_type": "code",
   "execution_count": 18,
   "metadata": {},
   "outputs": [],
   "source": [
    " y_pred = linreg.predict(df_x)"
   ]
  },
  {
   "cell_type": "code",
   "execution_count": 20,
   "metadata": {},
   "outputs": [
    {
     "data": {
      "image/png": "[encoded data removed]",
      "text/plain": [
       "<Figure size 432x288 with 1 Axes>"
      ]
     },
     "metadata": {
      "needs_background": "light"
     },
     "output_type": "display_data"
    }
   ],
   "source": [
    "plt.scatter(df_x, df_y)\n",
    "plt.plot(df_x, y_pred, color = 'red')\n",
    "plt.show()"
   ]
  },
  {
   "cell_type": "code",
   "execution_count": 21,
   "metadata": {},
   "outputs": [
    {
     "name": "stdout",
     "output_type": "stream",
     "text": [
      "[[-1.45871786]]\n"
     ]
    }
   ],
   "source": [
    "print(linreg.coef_)"
   ]
  },
  {
   "cell_type": "code",
   "execution_count": 22,
   "metadata": {},
   "outputs": [
    {
     "name": "stdout",
     "output_type": "stream",
     "text": [
      "[305.79758706]\n"
     ]
    }
   ],
   "source": [
    "print(linreg.intercept_)"
   ]
  },
  {
   "cell_type": "code",
   "execution_count": 1,
   "metadata": {},
   "outputs": [
    {
     "data": {
      "text/plain": [
       "<Figure size 864x864 with 0 Axes>"
      ]
     },
     "execution_count": 1,
     "metadata": {},
     "output_type": "execute_result"
    },
    {
     "data": {
      "text/plain": [
       "<Figure size 864x864 with 0 Axes>"
      ]
     },
     "metadata": {},
     "output_type": "display_data"
    }
   ],
   "source": [
    "import matplotlib.pyplot as plt\n",
    "width = 12\n",
    "height = 12\n",
    "plt.figure(figsize=(width,height))"
   ]
  },
  {
   "cell_type": "code",
   "execution_count": null,
   "metadata": {},
   "outputs": [],
   "source": []
  }
 ],
 "metadata": {
  "kernelspec": {
   "display_name": "Python 3",
   "language": "python",
   "name": "python3"
  },
  "language_info": {
   "codemirror_mode": {
    "name": "ipython",
    "version": 3
   },
   "file_extension": ".py",
   "mimetype": "text/x-python",
   "name": "python",
   "nbconvert_exporter": "python",
   "pygments_lexer": "ipython3",
   "version": "3.8.3"
  }
 },
 "nbformat": 4,
 "nbformat_minor": 4
}
